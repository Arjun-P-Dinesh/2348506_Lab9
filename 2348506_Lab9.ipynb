{
  "nbformat": 4,
  "nbformat_minor": 0,
  "metadata": {
    "colab": {
      "provenance": []
    },
    "kernelspec": {
      "name": "python3",
      "display_name": "Python 3"
    },
    "language_info": {
      "name": "python"
    }
  },
  "cells": [
    {
      "cell_type": "code",
      "execution_count": 1,
      "metadata": {
        "id": "QpExsQif91-B"
      },
      "outputs": [],
      "source": [
        "import os\n",
        "import cv2\n",
        "import numpy as np\n",
        "import pandas as pd\n",
        "import matplotlib.pyplot as pt\n",
        "from sklearn.model_selection import train_test_split, GridSearchCV\n",
        "from sklearn.metrics import\\\n",
        "accuracy_score, precision_score, recall_score, f1_score,\\\n",
        "roc_curve, PrecisionRecallDisplay, classification_report\n",
        "from sklearn.svm import SVC as svc\n",
        "import seaborn as sb"
      ]
    },
    {
      "cell_type": "code",
      "source": [],
      "metadata": {
        "id": "Av3DW7vq_Yxg"
      },
      "execution_count": null,
      "outputs": []
    }
  ]
}