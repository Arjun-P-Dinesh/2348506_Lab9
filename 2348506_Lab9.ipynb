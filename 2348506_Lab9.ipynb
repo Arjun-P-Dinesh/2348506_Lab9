{
  "nbformat": 4,
  "nbformat_minor": 0,
  "metadata": {
    "colab": {
      "provenance": [],
      "authorship_tag": "ABX9TyNZ9ZyBhRV8c7+B32sx8ylO",
      "include_colab_link": true
    },
    "kernelspec": {
      "name": "python3",
      "display_name": "Python 3"
    },
    "language_info": {
      "name": "python"
    }
  },
  "cells": [
    {
      "cell_type": "markdown",
      "metadata": {
        "id": "view-in-github",
        "colab_type": "text"
      },
      "source": [
        "<a href=\"https://colab.research.google.com/github/Arjun-P-Dinesh/2348506_Lab9/blob/main/2348506_Lab9.ipynb\" target=\"_parent\"><img src=\"https://colab.research.google.com/assets/colab-badge.svg\" alt=\"Open In Colab\"/></a>"
      ]
    },
    {
      "cell_type": "code",
      "execution_count": null,
      "metadata": {
        "id": "QpExsQif91-B"
      },
      "outputs": [],
      "source": [
        "import os\n",
        "import cv2\n",
        "import numpy as np\n",
        "import pandas as pd\n",
        "import matplotlib.pyplot as pt\n",
        "from sklearn.model_selection import train_test_split, GridSearchCV\n",
        "from sklearn.metrics import\\\n",
        "accuracy_score, precision_score, recall_score, f1_score,\\\n",
        "roc_curve, PrecisionRecallDisplay, classification_report\n",
        "from sklearn.svm import SVC as svc\n",
        "import seaborn as sb"
      ]
    },
    {
      "cell_type": "code",
      "source": [],
      "metadata": {
        "id": "Av3DW7vq_Yxg"
      },
      "execution_count": null,
      "outputs": []
    }
  ]
}